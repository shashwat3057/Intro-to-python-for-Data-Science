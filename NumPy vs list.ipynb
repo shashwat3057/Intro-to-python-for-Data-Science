{
 "cells": [
  {
   "cell_type": "code",
   "execution_count": 1,
   "metadata": {},
   "outputs": [],
   "source": [
    "#import modules\n",
    "import numpy as np \n",
    "import sys\n",
    "import time"
   ]
  },
  {
   "cell_type": "code",
   "execution_count": 18,
   "metadata": {},
   "outputs": [
    {
     "name": "stdout",
     "output_type": "stream",
     "text": [
      "0 1 2 3 4 5 6 7 8 9 10 11 12 13 14 15 16 17 18 19 20 21 22 23 24 25 26 27 28 29 30 31 32 33 34 35 36 37 38 39 40 41 42 43 44 45 46 47 48 49 50 51 52 53 54 55 56 57 58 59 60 61 62 63 64 65 66 67 68 69 70 71 72 73 74 75 76 77 78 79 80 81 82 83 84 85 86 87 88 89 90 91 92 93 94 95 96 97 98 99 \n",
      "\n",
      "Memory occupied by the list:-\n",
      "2800\n"
     ]
    }
   ],
   "source": [
    "#creating list\n",
    "l=range(100) #initialize a list with numbers between 0 and 100 . 100 exclusive\n",
    "for i in l:\n",
    "    print(i,end=\" \")\n",
    "print(\"\\n\\nMemory occupied by the list:-\")\n",
    "print(sys.getsizeof(1)*len(l)) #sys.getsize gives the memory occupied by one member of the list"
   ]
  },
  {
   "cell_type": "code",
   "execution_count": 16,
   "metadata": {},
   "outputs": [
    {
     "name": "stdout",
     "output_type": "stream",
     "text": [
      "[ 0  1  2  3  4  5  6  7  8  9 10 11 12 13 14 15 16 17 18 19 20 21 22 23\n",
      " 24 25 26 27 28 29 30 31 32 33 34 35 36 37 38 39 40 41 42 43 44 45 46 47\n",
      " 48 49 50 51 52 53 54 55 56 57 58 59 60 61 62 63 64 65 66 67 68 69 70 71\n",
      " 72 73 74 75 76 77 78 79 80 81 82 83 84 85 86 87 88 89 90 91 92 93 94 95\n",
      " 96 97 98 99]\n",
      "\n",
      "Memory occupied by the numpy array:-\n",
      "800\n"
     ]
    }
   ],
   "source": [
    "#creating numpy array\n",
    "n=np.arange(100)\n",
    "print(n)\n",
    "print(\"\\nMemory occupied by the numpy array:-\")\n",
    "print(n.size*n.itemsize)"
   ]
  },
  {
   "cell_type": "code",
   "execution_count": 27,
   "metadata": {},
   "outputs": [
    {
     "name": "stdout",
     "output_type": "stream",
     "text": [
      "[(1, 5), (2, 6), (3, 7), (4, 8)]\n",
      "3256.4449310302734\n",
      "61.183929443359375\n"
     ]
    }
   ],
   "source": [
    "l1=range(10000000)\n",
    "l2=range(10000000)\n",
    "\n",
    "n1=np.arange(10000000)\n",
    "n2=np.arange(10000000)\n",
    "\n",
    "start=time.time()\n",
    "sum_of_list=[sum(i) for i in zip(l1,l2)]\n",
    "end=time.time()\n",
    "#    0,1,2,3\n",
    "# l3=[1,2,3,4]\n",
    "# l4=[5,6,7,8]\n",
    "# mapped=[(x,y) for x,y in zip(l3,l4)]\n",
    "# print(mapped)\n",
    "# print(sum_of_list)\n",
    "print ((end-start)*1000) #time in millisecond\n",
    "\n",
    "start=time.time()\n",
    "sum_of_nparray=n1+n2\n",
    "end=time.time()\n",
    "# print(sum_of_nparray)\n",
    "print ((end-start)*1000)#time in millisecond"
   ]
  },
  {
   "cell_type": "code",
   "execution_count": null,
   "metadata": {},
   "outputs": [],
   "source": []
  }
 ],
 "metadata": {
  "kernelspec": {
   "display_name": "Python 3",
   "language": "python",
   "name": "python3"
  },
  "language_info": {
   "codemirror_mode": {
    "name": "ipython",
    "version": 3
   },
   "file_extension": ".py",
   "mimetype": "text/x-python",
   "name": "python",
   "nbconvert_exporter": "python",
   "pygments_lexer": "ipython3",
   "version": "3.7.1"
  }
 },
 "nbformat": 4,
 "nbformat_minor": 2
}
