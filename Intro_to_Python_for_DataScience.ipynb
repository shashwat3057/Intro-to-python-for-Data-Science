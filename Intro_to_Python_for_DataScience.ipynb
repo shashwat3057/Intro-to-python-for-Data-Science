{
  "nbformat": 4,
  "nbformat_minor": 0,
  "metadata": {
    "colab": {
      "name": "Intro to Python for DataScience.ipynb",
      "provenance": []
    },
    "kernelspec": {
      "name": "python3",
      "display_name": "Python 3"
    }
  },
  "cells": [
    {
      "cell_type": "markdown",
      "metadata": {
        "id": "dPdbuj3_RMxN",
        "colab_type": "text"
      },
      "source": [
        "***5.1-PYTHON BASICS***"
      ]
    },
    {
      "cell_type": "markdown",
      "metadata": {
        "id": "_lLOOtzjLR2Y",
        "colab_type": "text"
      },
      "source": [
        "**Print funciton**"
      ]
    },
    {
      "cell_type": "code",
      "metadata": {
        "id": "wCjl276xLF3C",
        "colab_type": "code",
        "outputId": "d2dfd545-9499-4bb0-82c2-44bd0addd2a7",
        "colab": {
          "base_uri": "https://localhost:8080/",
          "height": 52
        }
      },
      "source": [
        "print(\"Hello world\")\n",
        "print(5+5)"
      ],
      "execution_count": 0,
      "outputs": [
        {
          "output_type": "stream",
          "text": [
            "Hello world\n",
            "10\n"
          ],
          "name": "stdout"
        }
      ]
    },
    {
      "cell_type": "markdown",
      "metadata": {
        "id": "ML6mT2OkOFXf",
        "colab_type": "text"
      },
      "source": [
        "**Mathematical Calculation**"
      ]
    },
    {
      "cell_type": "code",
      "metadata": {
        "id": "GaNutSz9N5qF",
        "colab_type": "code",
        "outputId": "169b42bc-d0f1-43fe-c090-aa1647e320f1",
        "colab": {
          "base_uri": "https://localhost:8080/",
          "height": 87
        }
      },
      "source": [
        "a=10\n",
        "b=20\n",
        "\n",
        "Sum=a+b\n",
        "print(Sum)\n",
        "diff=a-b\n",
        "print(diff)\n",
        "div=b/a\n",
        "print(div)\n",
        "mul=a*b\n",
        "print(mul)"
      ],
      "execution_count": 0,
      "outputs": [
        {
          "output_type": "stream",
          "text": [
            "30\n",
            "-10\n",
            "2.0\n",
            "200\n"
          ],
          "name": "stdout"
        }
      ]
    },
    {
      "cell_type": "markdown",
      "metadata": {
        "id": "ggk4Qg_ePZBB",
        "colab_type": "text"
      },
      "source": [
        "**Python Type() Function**\n",
        "\n",
        "\n",
        "Returns the Type of the specified object\n",
        "\n",
        "integer- whole numbers-0,1,2,3.....etc\n",
        "\n",
        "float- decimal values-1.0,3.3,5.6...etc\n",
        "\n",
        "string- set of characters - DSCNSEC, SHASHWAT....etc\n",
        "\n",
        "boolean- True/False"
      ]
    },
    {
      "cell_type": "code",
      "metadata": {
        "id": "1EuwP9QjPVxO",
        "colab_type": "code",
        "outputId": "f23705fb-c6e5-48ce-8cc3-0a9cf6408909",
        "colab": {
          "base_uri": "https://localhost:8080/",
          "height": 87
        }
      },
      "source": [
        "a=1\n",
        "print(type(a))\n",
        "b=1.0\n",
        "print(type(b))\n",
        "c=\"DSC NSEC\"\n",
        "print(type(c))\n",
        "d=True\n",
        "print(type(d))"
      ],
      "execution_count": 0,
      "outputs": [
        {
          "output_type": "stream",
          "text": [
            "<class 'int'>\n",
            "<class 'float'>\n",
            "<class 'str'>\n",
            "<class 'bool'>\n"
          ],
          "name": "stdout"
        }
      ]
    },
    {
      "cell_type": "markdown",
      "metadata": {
        "id": "PjVHoubFR3DZ",
        "colab_type": "text"
      },
      "source": [
        "***5.2-Tuples,Lists and Dictonaries***"
      ]
    },
    {
      "cell_type": "markdown",
      "metadata": {
        "id": "VzZUVXjHSGQy",
        "colab_type": "text"
      },
      "source": [
        "**Tuples**\n",
        "\n",
        "A tuple is created by using round brackets around the items it contains, with commas seperating the individual elements.\n",
        "\n",
        "\n",
        "*   Can contain any number of items\n",
        "*   Can contain different types of items\n",
        "*   Cannot be altered once created (they are immutable)"
      ]
    },
    {
      "cell_type": "code",
      "metadata": {
        "id": "B3ibM7ALSMLE",
        "colab_type": "code",
        "outputId": "86e363ca-4b8f-4f48-cff5-1c62ed979bf6",
        "colab": {
          "base_uri": "https://localhost:8080/",
          "height": 87
        }
      },
      "source": [
        "a = (123, 54, 92) # tuple of 3 integers\n",
        "b = () # empty tuple\n",
        "c = (\"Ala\") # tuple of a single string (note the trailing \",\")\n",
        "d = (2, 3, False, \"Arg\", None) # a tuple of mixed types\n",
        "\n",
        "print(a)\n",
        "print(b)\n",
        "print(c)\n",
        "print(d)"
      ],
      "execution_count": 0,
      "outputs": [
        {
          "output_type": "stream",
          "text": [
            "(123, 54, 92)\n",
            "()\n",
            "Ala\n",
            "(2, 3, False, 'Arg', None)\n"
          ],
          "name": "stdout"
        }
      ]
    },
    {
      "cell_type": "markdown",
      "metadata": {
        "id": "ubwfyA6DUV-Q",
        "colab_type": "text"
      },
      "source": [
        "**Lists**\n",
        "\n",
        "Lists are created with square brackets around their items:\n",
        "\n",
        "\n",
        "*   Can contain any number of items\n",
        "*   Can contain different types of items\n",
        "*   Can be altered once created (they are mutable)\n",
        "\n"
      ]
    },
    {
      "cell_type": "code",
      "metadata": {
        "id": "IePnRzRqUKjb",
        "colab_type": "code",
        "colab": {}
      },
      "source": [
        "a = [1, 3, 9, 'Py', 217.213]\n",
        "b = [\"Python\"]\n",
        "c = []\n",
        "\n",
        "print(a)\n",
        "print(b)\n",
        "print(c)"
      ],
      "execution_count": 0,
      "outputs": []
    },
    {
      "cell_type": "markdown",
      "metadata": {
        "id": "2uqhM2lvVMlM",
        "colab_type": "text"
      },
      "source": [
        "**Subsetting and slicing**"
      ]
    },
    {
      "cell_type": "code",
      "metadata": {
        "id": "8u75HcR7WBRe",
        "colab_type": "code",
        "outputId": "44c041b1-b540-46f1-ea94-1caf8148f373",
        "colab": {
          "base_uri": "https://localhost:8080/",
          "height": 70
        }
      },
      "source": [
        "l = [3, 7, 4, 2]\n",
        "\n",
        "#access the first element\n",
        "print(l[0])\n",
        "\n",
        "#access the last element\n",
        "print(l[3])\n",
        "print(l[-1])"
      ],
      "execution_count": 0,
      "outputs": [
        {
          "output_type": "stream",
          "text": [
            "3\n",
            "2\n",
            "2\n"
          ],
          "name": "stdout"
        }
      ]
    },
    {
      "cell_type": "markdown",
      "metadata": {
        "id": "M66YMfVhWq5M",
        "colab_type": "text"
      },
      "source": [
        "**Slice of Lists**\n",
        "Slices are good for getting a subset of values in your list."
      ]
    },
    {
      "cell_type": "code",
      "metadata": {
        "id": "wL-Czr2rWuyt",
        "colab_type": "code",
        "outputId": "fc339cab-8909-4e38-9cfb-f8b6041bf62c",
        "colab": {
          "base_uri": "https://localhost:8080/",
          "height": 70
        }
      },
      "source": [
        "l = [3, 7, 4, 2]\n",
        "print(l[0:2])\n",
        "\n",
        "# everything up to but not including index 3\n",
        "print(l[:3])\n",
        "\n",
        "# index 1 to end of list\n",
        "print(l[1:])"
      ],
      "execution_count": 0,
      "outputs": [
        {
          "output_type": "stream",
          "text": [
            "[3, 7]\n",
            "[3, 7, 4]\n",
            "[7, 4, 2]\n"
          ],
          "name": "stdout"
        }
      ]
    },
    {
      "cell_type": "markdown",
      "metadata": {
        "id": "18UE0EKJXRmG",
        "colab_type": "text"
      },
      "source": [
        "**Update item in the List**"
      ]
    },
    {
      "cell_type": "code",
      "metadata": {
        "id": "8j3jsav2XByK",
        "colab_type": "code",
        "outputId": "e501bd72-f069-4a5d-9aec-d9d8374d0947",
        "colab": {
          "base_uri": "https://localhost:8080/",
          "height": 34
        }
      },
      "source": [
        "# Defining a list\n",
        "l = [3, 7, 4, 2]\n",
        "# Update the item at index 1 with the string \"fish\"\n",
        "l[1] = \"dsc\"\n",
        "print(l)"
      ],
      "execution_count": 0,
      "outputs": [
        {
          "output_type": "stream",
          "text": [
            "[3, 'dsc', 4, 2]\n"
          ],
          "name": "stdout"
        }
      ]
    },
    {
      "cell_type": "markdown",
      "metadata": {
        "id": "Q4b4XMc6AL8j",
        "colab_type": "text"
      },
      "source": [
        "**Append and delete any item from the list**"
      ]
    },
    {
      "cell_type": "code",
      "metadata": {
        "id": "COnHT0fyALEd",
        "colab_type": "code",
        "outputId": "8a0a70b3-61b3-467b-ece1-bb01834fb5eb",
        "colab": {
          "base_uri": "https://localhost:8080/",
          "height": 52
        }
      },
      "source": [
        "l=[1,2,3,4,5]\n",
        "l.append(6)\n",
        "print(l)\n",
        "l.remove(6)\n",
        "print(l)"
      ],
      "execution_count": 0,
      "outputs": [
        {
          "output_type": "stream",
          "text": [
            "[1, 2, 3, 4, 5, 6]\n",
            "[1, 2, 3, 4, 5]\n"
          ],
          "name": "stdout"
        }
      ]
    },
    {
      "cell_type": "markdown",
      "metadata": {
        "id": "h0KVdyxEXgrp",
        "colab_type": "text"
      },
      "source": [
        "**Dictionaries**\n",
        "\n",
        "Lists are useful in many contexts, but often we have some data that has no inherent order and that we want to access by some useful name rather than an index. For example, as a result of some experiment we may have a set of genes and corresponding expression values. We could put the expression values in a list, but then we'd have to remember which index in the list corresponded to which gene and this would quickly get complicated.\n",
        "\n",
        "For these situations a dictionary is a very useful data structure."
      ]
    },
    {
      "cell_type": "markdown",
      "metadata": {
        "id": "5hYRi3ZxYAjD",
        "colab_type": "text"
      },
      "source": [
        "**Dictionaries:**\n",
        "\n",
        "A dictionary is a collection which is unordered, changeable and indexed. In Python dictionaries are written with curly brackets, and they have keys and values.\n",
        "\n",
        "*   Contain a mapping of keys to values (like a word and its corresponding     definition in a dictionary)\n",
        "*   The keys of a dictionary are unique, i.e. they cannot repeat\n",
        "*   The values of a dictionary can be of any data type\n",
        "*   The keys of a dictionary cannot be an internally modifiable type (e.g.     lists, but you can use tuples)\n",
        "*   Dictionaries do not store data in any particular order"
      ]
    },
    {
      "cell_type": "code",
      "metadata": {
        "id": "RWxzMeBbZEek",
        "colab_type": "code",
        "outputId": "453ebcbe-d243-493d-edf1-b99f39dcdda0",
        "colab": {
          "base_uri": "https://localhost:8080/",
          "height": 52
        }
      },
      "source": [
        "Months = {\"1\": \"Jan\", \"2\": \"Feb\", \"3\": \"Mar\", \"4\": \"Apr\"}\n",
        "print(Months)\n",
        "\n",
        "Months['3']"
      ],
      "execution_count": 0,
      "outputs": [
        {
          "output_type": "stream",
          "text": [
            "{'1': 'Jan', '2': 'Feb', '3': 'Mar', '4': 'Apr'}\n"
          ],
          "name": "stdout"
        },
        {
          "output_type": "execute_result",
          "data": {
            "text/plain": [
              "'Mar'"
            ]
          },
          "metadata": {
            "tags": []
          },
          "execution_count": 112
        }
      ]
    },
    {
      "cell_type": "code",
      "metadata": {
        "id": "1K90bWk4ZqtU",
        "colab_type": "code",
        "colab": {}
      },
      "source": [
        "#Access the Keys\n",
        "sports = {\"A\": \"Cricket\", \"B\": \"Football\", \"C\": \"Hockey\", \"D\": \"Badminton\", \"E\": \"Kabaddi\"}\n",
        "print(sports.keys())"
      ],
      "execution_count": 0,
      "outputs": []
    },
    {
      "cell_type": "code",
      "metadata": {
        "id": "fEaUcOKFZw1Q",
        "colab_type": "code",
        "outputId": "a21754a4-647d-4e59-eb9d-730b03150b32",
        "colab": {
          "base_uri": "https://localhost:8080/",
          "height": 34
        }
      },
      "source": [
        "#Access the Values\n",
        "sports = {\"A\": \"Cricket\", \"B\": \"Football\", \"C\": \"Hockey\", \"D\": \"Badminton\", \"E\": \"Kabaddi\"}\n",
        "print(sports.values())"
      ],
      "execution_count": 0,
      "outputs": [
        {
          "output_type": "stream",
          "text": [
            "dict_values(['Cricket', 'Football', 'Hockey', 'Badminton', 'Kabaddi'])\n"
          ],
          "name": "stdout"
        }
      ]
    },
    {
      "cell_type": "markdown",
      "metadata": {
        "id": "qb7_GOc8ak7k",
        "colab_type": "text"
      },
      "source": [
        "***5.3 Python Programming Fundamentals***"
      ]
    },
    {
      "cell_type": "markdown",
      "metadata": {
        "id": "8kTwD5JqbDvO",
        "colab_type": "text"
      },
      "source": [
        "**The if statement**\n",
        "\n",
        "A conditional if statement is used to specify that some block of code should only be executed if some associated test is upheld; a conditional expression evaluates to True. This might also involve subsidiary checks using the elif statement to use an alternative block if the previous expression turns out to be False. There can even be a final else statement to do something if none of the checks are passed"
      ]
    },
    {
      "cell_type": "markdown",
      "metadata": {
        "id": "yGDV-ZQYBb61",
        "colab_type": "text"
      },
      "source": [
        "**Conditional Operators**\n",
        "\n",
        "equal to: ==\n",
        "\n",
        "not equal to: != or <>\n",
        "\n",
        "greater than: >\n",
        "\n",
        "less than: <\n",
        "\n",
        "greater than equal to : >=\n"
      ]
    },
    {
      "cell_type": "code",
      "metadata": {
        "id": "UiNBYmF9aGtc",
        "colab_type": "code",
        "outputId": "686d9a45-0e69-4ec0-bd1d-8f42645513a9",
        "colab": {
          "base_uri": "https://localhost:8080/",
          "height": 34
        }
      },
      "source": [
        "x = -3\n",
        "\n",
        "if x > 0:\n",
        "    print(\"Value is positive\")\n",
        "\n",
        "elif x < 0:\n",
        "    print(\"Value is negative\")\n",
        "\n",
        "else:\n",
        "    print(\"Value is zero\")"
      ],
      "execution_count": 0,
      "outputs": [
        {
          "output_type": "stream",
          "text": [
            "Value is negative\n"
          ],
          "name": "stdout"
        }
      ]
    },
    {
      "cell_type": "markdown",
      "metadata": {
        "id": "YKq_PA21bdNz",
        "colab_type": "text"
      },
      "source": [
        "\n",
        "**Loops**\n",
        "\n",
        "When an operation needs to be repeated multiple times, for example on all of the items in a list, we avoid having to type (or copy and paste) repetitive code by creating a loop. There are two ways of creating loops in Python, the for loop and the while loop."
      ]
    },
    {
      "cell_type": "markdown",
      "metadata": {
        "id": "mkYVkTXsci61",
        "colab_type": "text"
      },
      "source": [
        "\n",
        "**The for loop**\n",
        "\n",
        "The for loop in Python iterates over each item in a sequence (such as a list or tuple) in the order that they appear in the sequence. What this means is that a variable (code in the below example) is set to each item from the sequence of values in turn, and each time this happens the indented block of code is executed again."
      ]
    },
    {
      "cell_type": "code",
      "metadata": {
        "id": "Ysb8GqP7CTaR",
        "colab_type": "code",
        "colab": {}
      },
      "source": [
        "#print first 5 natural numbers\n",
        "print(\"1\")\n",
        "print(\"2\")\n",
        "print(\"3\")\n",
        "print(\"4\")\n",
        "print(\"5\")"
      ],
      "execution_count": 0,
      "outputs": []
    },
    {
      "cell_type": "code",
      "metadata": {
        "id": "n15lz6IodANe",
        "colab_type": "code",
        "outputId": "36494f58-5712-4a1c-852f-0a192329c5fa",
        "colab": {
          "base_uri": "https://localhost:8080/",
          "height": 105
        }
      },
      "source": [
        "for i in range(1,6):\n",
        "  print(i)"
      ],
      "execution_count": 0,
      "outputs": [
        {
          "output_type": "stream",
          "text": [
            "1\n",
            "2\n",
            "3\n",
            "4\n",
            "5\n"
          ],
          "name": "stdout"
        }
      ]
    },
    {
      "cell_type": "code",
      "metadata": {
        "id": "CT3Bjd3obM8Z",
        "colab_type": "code",
        "outputId": "d30f5990-42a9-46f4-c2c7-bcab742d3a74",
        "colab": {
          "base_uri": "https://localhost:8080/",
          "height": 175
        }
      },
      "source": [
        "numbers = [1, 2, 3, 4, 5, 6, 7, 8, 9]\n",
        "\n",
        "for x in numbers:\n",
        "    print(x)"
      ],
      "execution_count": 0,
      "outputs": [
        {
          "output_type": "stream",
          "text": [
            "1\n",
            "2\n",
            "3\n",
            "4\n",
            "5\n",
            "6\n",
            "7\n",
            "8\n",
            "9\n"
          ],
          "name": "stdout"
        }
      ]
    },
    {
      "cell_type": "code",
      "metadata": {
        "id": "ZuGF3BHUc1f-",
        "colab_type": "code",
        "outputId": "ff98e089-06e9-4c1b-91c6-868fd6879a9d",
        "colab": {
          "base_uri": "https://localhost:8080/",
          "height": 105
        }
      },
      "source": [
        "sports = {\"A\": \"Cricket\", \"B\": \"Football\", \"C\": \"Hockey\", \"D\": \"Badminton\", \"E\": \"Kabaddi\"}\n",
        "\n",
        "for x in sports:\n",
        "    print(x, sports[x])"
      ],
      "execution_count": 0,
      "outputs": [
        {
          "output_type": "stream",
          "text": [
            "A Cricket\n",
            "B Football\n",
            "C Hockey\n",
            "D Badminton\n",
            "E Kabaddi\n"
          ],
          "name": "stdout"
        }
      ]
    },
    {
      "cell_type": "markdown",
      "metadata": {
        "id": "4tctlPGZdS0b",
        "colab_type": "text"
      },
      "source": [
        "\n",
        "**The while loop**\n",
        "\n",
        "In addition to the for loop that operates on a collection of items, there is a while loop that simply repeats while some statement evaluates to True and stops when it is False. Note that if the tested expression never evaluates to False then you have an “infinite loop”, which is not good."
      ]
    },
    {
      "cell_type": "code",
      "metadata": {
        "id": "EqTtdVsmdL4U",
        "colab_type": "code",
        "outputId": "1bc35d92-1a84-49c2-c4d5-b7aff3d44260",
        "colab": {
          "base_uri": "https://localhost:8080/",
          "height": 175
        }
      },
      "source": [
        "n=1\n",
        "while(n<10):\n",
        "  print(n)\n",
        "  n=n+1"
      ],
      "execution_count": 0,
      "outputs": [
        {
          "output_type": "stream",
          "text": [
            "1\n",
            "2\n",
            "3\n",
            "4\n",
            "5\n",
            "6\n",
            "7\n",
            "8\n",
            "9\n"
          ],
          "name": "stdout"
        }
      ]
    },
    {
      "cell_type": "markdown",
      "metadata": {
        "id": "Tx11pRBzfim3",
        "colab_type": "text"
      },
      "source": [
        "***5.4 Numpy***\n",
        "\n",
        "\n",
        "*   Fundamental Package for scientific computing in python\n",
        "*   Provides a high-performance multidimensional array object and tools for working with this array\n",
        "\n"
      ]
    },
    {
      "cell_type": "markdown",
      "metadata": {
        "id": "pex8qcjSgd35",
        "colab_type": "text"
      },
      "source": [
        "**Creating arrays in NumPy**"
      ]
    },
    {
      "cell_type": "code",
      "metadata": {
        "id": "o4aOid1-DtXn",
        "colab_type": "code",
        "outputId": "f0241f74-e731-457c-832e-20e6d7244862",
        "colab": {
          "base_uri": "https://localhost:8080/",
          "height": 87
        }
      },
      "source": [
        "import numpy as np\n",
        "a = np.array([1, 2, 3])# Create a 1-D array\n",
        "print(a)\n",
        "print (type(a))        \n",
        "print (a.shape)   \n",
        "print (a[0], a[1], a[2]) \n"
      ],
      "execution_count": 0,
      "outputs": [
        {
          "output_type": "stream",
          "text": [
            "[1 2 3]\n",
            "<class 'numpy.ndarray'>\n",
            "(3,)\n",
            "1 2 3\n"
          ],
          "name": "stdout"
        }
      ]
    },
    {
      "cell_type": "code",
      "metadata": {
        "id": "Rcw6rk4rEPWl",
        "colab_type": "code",
        "outputId": "cfe2dbad-0c2c-49ce-c281-5a483addc607",
        "colab": {
          "base_uri": "https://localhost:8080/",
          "height": 34
        }
      },
      "source": [
        "a[0] = 5                 # Change an element of the array\n",
        "print (a)"
      ],
      "execution_count": 0,
      "outputs": [
        {
          "output_type": "stream",
          "text": [
            "[5 2 3]\n"
          ],
          "name": "stdout"
        }
      ]
    },
    {
      "cell_type": "code",
      "metadata": {
        "id": "L0PsFnbZEiud",
        "colab_type": "code",
        "outputId": "ce7e32e8-7319-412d-cf4d-1ae06b39f9ca",
        "colab": {
          "base_uri": "https://localhost:8080/",
          "height": 140
        }
      },
      "source": [
        "import numpy as np\n",
        "\n",
        "a = np.zeros((2,2))  # Create an array of all zeros\n",
        "print (a)                                 \n",
        "    \n",
        "b = np.ones((1,2))   # Create an array of all ones\n",
        "print (b)              \n",
        "\n",
        "d = np.eye(2)        # Create a 2x2 identity matrix\n",
        "print (d)              \n",
        "\n",
        "e = np.random.random((2,2)) # Create an array filled with random values\n",
        "print (e)                     \n",
        "                            "
      ],
      "execution_count": 0,
      "outputs": [
        {
          "output_type": "stream",
          "text": [
            "[[0. 0.]\n",
            " [0. 0.]]\n",
            "[[1. 1.]]\n",
            "[[1. 0.]\n",
            " [0. 1.]]\n",
            "[[0.69670079 0.42558327]\n",
            " [0.65968248 0.77267879]]\n"
          ],
          "name": "stdout"
        }
      ]
    },
    {
      "cell_type": "markdown",
      "metadata": {
        "id": "KaWGInZxhWW6",
        "colab_type": "text"
      },
      "source": [
        "**NumPy vs List**\n",
        "\n",
        "**Advantages of NumPy over Lists:-**\n",
        "\n",
        "\n",
        "*   Consumes less memory\n",
        "*   Fast\n",
        "*   Convinient\n",
        "\n",
        "\n",
        "\n"
      ]
    },
    {
      "cell_type": "code",
      "metadata": {
        "id": "2a9Y-c5Sdihd",
        "colab_type": "code",
        "colab": {}
      },
      "source": [
        "#import modules\n",
        "import numpy as np \n",
        "import sys\n",
        "import time"
      ],
      "execution_count": 0,
      "outputs": []
    },
    {
      "cell_type": "code",
      "metadata": {
        "id": "9a6CRYShh-nE",
        "colab_type": "code",
        "outputId": "4e84338e-3727-42bd-cf33-80fa031f026c",
        "colab": {
          "base_uri": "https://localhost:8080/",
          "height": 107
        }
      },
      "source": [
        "#creating list\n",
        "l=range(100) #initialize a list with numbers between 0 and 100 . 100 exclusive\n",
        "for i in l:\n",
        "    print(i,end=\" \")\n",
        "print(\"\\n\\nMemory occupied by the list:-\")\n",
        "print(sys.getsizeof(1)*len(l)) #sys.getsize gives the memory occupied by one member of the list"
      ],
      "execution_count": 0,
      "outputs": [
        {
          "output_type": "stream",
          "text": [
            "0 1 2 3 4 5 6 7 8 9 10 11 12 13 14 15 16 17 18 19 20 21 22 23 24 25 26 27 28 29 30 31 32 33 34 35 36 37 38 39 40 41 42 43 44 45 46 47 48 49 50 51 52 53 54 55 56 57 58 59 60 61 62 63 64 65 66 67 68 69 70 71 72 73 74 75 76 77 78 79 80 81 82 83 84 85 86 87 88 89 90 91 92 93 94 95 96 97 98 99 \n",
            "\n",
            "Memory occupied by the list:-\n",
            "2800\n"
          ],
          "name": "stdout"
        }
      ]
    },
    {
      "cell_type": "code",
      "metadata": {
        "id": "bk83hYIVh_7B",
        "colab_type": "code",
        "outputId": "0dddc9fd-19ae-499f-f622-03724ded6766",
        "colab": {
          "base_uri": "https://localhost:8080/",
          "height": 158
        }
      },
      "source": [
        "#creating numpy array\n",
        "n=np.arange(100)\n",
        "print(n)\n",
        "print(\"\\nMemory occupied by the numpy array:-\")\n",
        "print(n.size*n.itemsize)"
      ],
      "execution_count": 0,
      "outputs": [
        {
          "output_type": "stream",
          "text": [
            "[ 0  1  2  3  4  5  6  7  8  9 10 11 12 13 14 15 16 17 18 19 20 21 22 23\n",
            " 24 25 26 27 28 29 30 31 32 33 34 35 36 37 38 39 40 41 42 43 44 45 46 47\n",
            " 48 49 50 51 52 53 54 55 56 57 58 59 60 61 62 63 64 65 66 67 68 69 70 71\n",
            " 72 73 74 75 76 77 78 79 80 81 82 83 84 85 86 87 88 89 90 91 92 93 94 95\n",
            " 96 97 98 99]\n",
            "\n",
            "Memory occupied by the numpy array:-\n",
            "800\n"
          ],
          "name": "stdout"
        }
      ]
    },
    {
      "cell_type": "code",
      "metadata": {
        "id": "cVCDA5saiEgF",
        "colab_type": "code",
        "outputId": "41e508cb-e461-4447-c748-b17a04b64e36",
        "colab": {
          "base_uri": "https://localhost:8080/",
          "height": 52
        }
      },
      "source": [
        "l1=range(10000000)\n",
        "l2=range(10000000)\n",
        "\n",
        "n1=np.arange(10000000)\n",
        "n2=np.arange(10000000)\n",
        "\n",
        "start=time.time() \n",
        "sum_of_list=[sum(i) for i in zip(l1,l2)]\n",
        "end=time.time()\n",
        "\n",
        "# The purpose of zip() is to map the similar index of multiple containers so that they can be used just using as single entity.\n",
        "\n",
        "#    0,1,2,3\n",
        "# l3=[1,2,3,4]\n",
        "# l4=[5,6,7,8]\n",
        "# mapped=[(x,y) for x,y in zip(l3,l4)]\n",
        "# print(mapped)\n",
        "# print(sum_of_list)\n",
        "print ((end-start)*1000) #time in millisecond\n",
        "\n",
        "start=time.time()\n",
        "sum_of_nparray=n1+n2\n",
        "end=time.time()\n",
        "# print(sum_of_nparray)\n",
        "print ((end-start)*1000)#time in millisecond"
      ],
      "execution_count": 0,
      "outputs": [
        {
          "output_type": "stream",
          "text": [
            "2309.077501296997\n",
            "33.46705436706543\n"
          ],
          "name": "stdout"
        }
      ]
    },
    {
      "cell_type": "markdown",
      "metadata": {
        "id": "WexrvCDQmd2P",
        "colab_type": "text"
      },
      "source": [
        "**NumPy operation**"
      ]
    },
    {
      "cell_type": "code",
      "metadata": {
        "id": "7kxGWRs9mjqh",
        "colab_type": "code",
        "outputId": "0ee6f8c1-7101-4354-99dc-83935a44ef43",
        "colab": {
          "base_uri": "https://localhost:8080/",
          "height": 34
        }
      },
      "source": [
        "#We can find the size and the shape of the array\n",
        "#size denotes the total number of elements in the array\n",
        "#shape denotes the number of rows and columns\n",
        "import numpy as np\n",
        "a=np.array([1,2,3])\n",
        "print(a.size)\n"
      ],
      "execution_count": 0,
      "outputs": [
        {
          "output_type": "stream",
          "text": [
            "3\n"
          ],
          "name": "stdout"
        }
      ]
    },
    {
      "cell_type": "code",
      "metadata": {
        "id": "AbXr5m_ymqLO",
        "colab_type": "code",
        "outputId": "595e9f76-e2a4-4f47-de92-0cd549a886b5",
        "colab": {
          "base_uri": "https://localhost:8080/",
          "height": 52
        }
      },
      "source": [
        "#Finding the shape of array\n",
        "a=np.array([1,2,3])\n",
        "print(a.shape)\n",
        "b=np.array([(1,2),(3,4),(5,6),(7,8)])\n",
        "print(b.shape)"
      ],
      "execution_count": 0,
      "outputs": [
        {
          "output_type": "stream",
          "text": [
            "(3,)\n",
            "(4, 2)\n"
          ],
          "name": "stdout"
        }
      ]
    },
    {
      "cell_type": "code",
      "metadata": {
        "id": "aDLTEa3mmsAk",
        "colab_type": "code",
        "outputId": "89f1fa78-2ce5-41cc-d551-98ba9d628f16",
        "colab": {
          "base_uri": "https://localhost:8080/",
          "height": 122
        }
      },
      "source": [
        "#reshaping the array\n",
        "#keep in mind the number of elements in the array while reshaping\n",
        "a=np.array([(1,2,3,4),(5,6,7,8)])\n",
        "print(a)\n",
        "a=a.reshape(4,2)\n",
        "print(a)"
      ],
      "execution_count": 0,
      "outputs": [
        {
          "output_type": "stream",
          "text": [
            "[[1 2 3 4]\n",
            " [5 6 7 8]]\n",
            "[[1 2]\n",
            " [3 4]\n",
            " [5 6]\n",
            " [7 8]]\n"
          ],
          "name": "stdout"
        }
      ]
    },
    {
      "cell_type": "code",
      "metadata": {
        "id": "2IjI1sxHmygB",
        "colab_type": "code",
        "outputId": "3896a6ea-6e70-4833-c4e0-a209a1f5917c",
        "colab": {
          "base_uri": "https://localhost:8080/",
          "height": 34
        }
      },
      "source": [
        "#printing equispaced value between any two numbers\n",
        "a=np.linspace(2,10,5)\n",
        "print(a)"
      ],
      "execution_count": 0,
      "outputs": [
        {
          "output_type": "stream",
          "text": [
            "[ 2.  4.  6.  8. 10.]\n"
          ],
          "name": "stdout"
        }
      ]
    },
    {
      "cell_type": "code",
      "metadata": {
        "id": "sSianjwGm2Pk",
        "colab_type": "code",
        "outputId": "a881f8e3-8a85-438c-812b-29b1a8b8caba",
        "colab": {
          "base_uri": "https://localhost:8080/",
          "height": 52
        }
      },
      "source": [
        "#max and min element in the array\n",
        "a=np.array([(1,2,3,4)])\n",
        "print(a.max())\n",
        "print(a.min())"
      ],
      "execution_count": 0,
      "outputs": [
        {
          "output_type": "stream",
          "text": [
            "4\n",
            "1\n"
          ],
          "name": "stdout"
        }
      ]
    },
    {
      "cell_type": "code",
      "metadata": {
        "id": "AD98zF71m3wY",
        "colab_type": "code",
        "outputId": "5185634f-ea35-40a3-ab87-67acbc5fabfc",
        "colab": {
          "base_uri": "https://localhost:8080/",
          "height": 34
        }
      },
      "source": [
        "#sum\n",
        "#axis=0 for rows \n",
        "#axis=1 for columns\n",
        "\n",
        "# 1 2 3\n",
        "# 4 5 6\n",
        "a=np.array([(1,2,3),(4,5,6)])\n",
        "print(a.sum(axis=1))"
      ],
      "execution_count": 0,
      "outputs": [
        {
          "output_type": "stream",
          "text": [
            "[ 6 15]\n"
          ],
          "name": "stdout"
        }
      ]
    },
    {
      "cell_type": "code",
      "metadata": {
        "id": "pENgY2svm-fq",
        "colab_type": "code",
        "outputId": "2f0f6773-f06a-4a6b-e803-b8e5f96c8732",
        "colab": {
          "base_uri": "https://localhost:8080/",
          "height": 334
        }
      },
      "source": [
        "#basic math operation\n",
        "x = np.array([[1,2],[3,4]], dtype=np.float64)\n",
        "y = np.array([[5,6],[7,8]], dtype=np.float64)\n",
        "\n",
        "#x= [[1,2]\n",
        "#    [3,4]]\n",
        "#y= [[5,6]\n",
        "#    [7,8]]\n",
        "\n",
        "# Elementwise sum; both produce the array\n",
        "# [[ 6.0  8.0]\n",
        "#  [10.0 12.0]]\n",
        "print (x + y)\n",
        "print (np.add(x, y))\n",
        "\n",
        "# Elementwise difference; both produce the array\n",
        "# [[-4.0 -4.0]\n",
        "#  [-4.0 -4.0]]\n",
        "print (x - y)\n",
        "print (np.subtract(x, y))\n",
        "\n",
        "# Elementwise product; both produce the array\n",
        "# [[ 5.0 12.0]\n",
        "#  [21.0 32.0]]\n",
        "print (x * y)\n",
        "print (np.multiply(x, y))\n",
        "\n",
        "# Elementwise division; both produce the array\n",
        "# [[ 0.2         0.33333333]\n",
        "#  [ 0.42857143  0.5       ]]\n",
        "print (x / y)\n",
        "print (np.divide(x, y))\n",
        "\n",
        "# Elementwise square root; produces the array\n",
        "# [[ 1.          1.41421356]\n",
        "#  [ 1.73205081  2.        ]]\n",
        "print (np.sqrt(x))"
      ],
      "execution_count": 0,
      "outputs": [
        {
          "output_type": "stream",
          "text": [
            "[[ 6.  8.]\n",
            " [10. 12.]]\n",
            "[[ 6.  8.]\n",
            " [10. 12.]]\n",
            "[[-4. -4.]\n",
            " [-4. -4.]]\n",
            "[[-4. -4.]\n",
            " [-4. -4.]]\n",
            "[[ 5. 12.]\n",
            " [21. 32.]]\n",
            "[[ 5. 12.]\n",
            " [21. 32.]]\n",
            "[[0.2        0.33333333]\n",
            " [0.42857143 0.5       ]]\n",
            "[[0.2        0.33333333]\n",
            " [0.42857143 0.5       ]]\n",
            "[[1.         1.41421356]\n",
            " [1.73205081 2.        ]]\n"
          ],
          "name": "stdout"
        }
      ]
    },
    {
      "cell_type": "code",
      "metadata": {
        "id": "CI286BD1nEOC",
        "colab_type": "code",
        "outputId": "90766015-c47e-47de-a134-96b3ea3b801c",
        "colab": {
          "base_uri": "https://localhost:8080/",
          "height": 122
        }
      },
      "source": [
        "#stacking\n",
        "import numpy as np\n",
        "a=np.array([(1,2,3),(4,5,6)])\n",
        "b=np.array([(1,2,3),(4,5,6)])\n",
        "print(np.vstack((a,b)))\n",
        "print(np.hstack((a,b)))\n"
      ],
      "execution_count": 0,
      "outputs": [
        {
          "output_type": "stream",
          "text": [
            "[[1 2 3]\n",
            " [4 5 6]\n",
            " [1 2 3]\n",
            " [4 5 6]]\n",
            "[[1 2 3 1 2 3]\n",
            " [4 5 6 4 5 6]]\n"
          ],
          "name": "stdout"
        }
      ]
    },
    {
      "cell_type": "markdown",
      "metadata": {
        "id": "VgELh0B5kws2",
        "colab_type": "text"
      },
      "source": [
        "**Indexing and Slicing in NumPy array**"
      ]
    },
    {
      "cell_type": "code",
      "metadata": {
        "id": "a2mv7DFFjQyY",
        "colab_type": "code",
        "outputId": "d5e5fb0a-1cc3-4785-d34b-0dbce274ae06",
        "colab": {
          "base_uri": "https://localhost:8080/",
          "height": 85
        }
      },
      "source": [
        "import numpy as np\n",
        "# Create the following 2-D array with shape (3, 4)\n",
        "# [[ 1  2  3  4] -0\n",
        "#  [ 5  6  7  8] - 1\n",
        "#  [ 9 10 11 12]] - 2\n",
        "a = np.array([[1,2,3,4], [5,6,7,8], [9,10,11,12]])\n",
        "print (a)\n",
        "print (a[0, 1])  "
      ],
      "execution_count": 0,
      "outputs": [
        {
          "output_type": "stream",
          "text": [
            "[[ 1  2  3  4]\n",
            " [ 5  6  7  8]\n",
            " [ 9 10 11 12]]\n",
            "2\n"
          ],
          "name": "stdout"
        }
      ]
    },
    {
      "cell_type": "code",
      "metadata": {
        "id": "-15hbVQ2k_2c",
        "colab_type": "code",
        "outputId": "5d126ff1-bb4b-47a0-a15b-77192f91cf6d",
        "colab": {
          "base_uri": "https://localhost:8080/",
          "height": 51
        }
      },
      "source": [
        "# Use slicing to pull out the subarray consisting of the first 2 rows\n",
        "# and columns 1 and 2; b is the following array of shape (2, 2):\n",
        "# [[2 3]\n",
        "#  [6 7]]\n",
        "b = a[:2, 1:3]\n",
        "print (b)"
      ],
      "execution_count": 0,
      "outputs": [
        {
          "output_type": "stream",
          "text": [
            "[[2 3]\n",
            " [6 7]]\n"
          ],
          "name": "stdout"
        }
      ]
    },
    {
      "cell_type": "code",
      "metadata": {
        "id": "NCc5BNdxlYq-",
        "colab_type": "code",
        "outputId": "e88fb514-45e1-4d4f-f632-caa004cd517b",
        "colab": {
          "base_uri": "https://localhost:8080/",
          "height": 51
        }
      },
      "source": [
        "# A slice of an array is a view into the same data, so modifying it\n",
        "# will modify the original array.\n",
        "\n",
        "# [[ 1  2  3  4]\n",
        "#  [ 5  6  7  8]\n",
        "#  [ 9 10 11 12]]\n",
        "\n",
        "# [[2 3]\n",
        "#  [6 7]]\n",
        "\n",
        "print (a[0, 1]) \n",
        "b[0, 0] = 77   \n",
        "print (a[0, 1])   "
      ],
      "execution_count": 0,
      "outputs": [
        {
          "output_type": "stream",
          "text": [
            "2\n",
            "77\n"
          ],
          "name": "stdout"
        }
      ]
    },
    {
      "cell_type": "code",
      "metadata": {
        "id": "aJuMaJXjlckM",
        "colab_type": "code",
        "outputId": "a4dcdab7-2d02-4066-98ef-59f2f6151859",
        "colab": {
          "base_uri": "https://localhost:8080/",
          "height": 51
        }
      },
      "source": [
        "# Create the following rank 2 array with shape (3, 4)\n",
        "# [[ 1  2  3  4]\n",
        "#  [ 5  6  7  8]\n",
        "#  [ 9 10 11 12]]\n",
        "a = np.array([[1,2,3,4], [5,6,7,8], [9,10,11,12]])\n",
        "\n",
        "# Two ways of accessing the data in the middle row of the array.\n",
        "# Mixing integer indexing with slices yields an array of lower rank,\n",
        "# while using only slices yields an array of the same rank as the\n",
        "# original array:\n",
        "row_r1 = a[1, :]    # Rank 1 view of the second row of a  \n",
        "row_r2 = a[1:2, :]  # Rank 2 view of the second row of a\n",
        "print (row_r1, row_r1.shape)  # Prints \"[5 6 7 8] (4,)\"\n",
        "print (row_r2, row_r2.shape)  # Prints \"[[5 6 7 8]] (1, 4)\""
      ],
      "execution_count": 0,
      "outputs": [
        {
          "output_type": "stream",
          "text": [
            "[5 6 7 8] (4,)\n",
            "[[5 6 7 8]] (1, 4)\n"
          ],
          "name": "stdout"
        }
      ]
    },
    {
      "cell_type": "code",
      "metadata": {
        "id": "LYJhpczzmDau",
        "colab_type": "code",
        "outputId": "b87c736e-4df8-469b-92e8-a59cfe505a6f",
        "colab": {
          "base_uri": "https://localhost:8080/",
          "height": 52
        }
      },
      "source": [
        "                           \n",
        "#Integer array indexing: \n",
        "\n",
        "a = np.array([[1,2], [3, 4], [5, 6]])\n",
        "\n",
        "# An example of integer array indexing.\n",
        "# The returned array will have shape (3,) and \n",
        "print (a[[0, 1, 2], [0, 1, 0]])  # Prints \"[1 4 5]\"\n",
        "\n",
        "# The above example of integer array indexing is equivalent to this:\n",
        "print (np.array([a[0, 0], a[1, 1], a[2, 0]]))  # Prints \"[1 4 5]\""
      ],
      "execution_count": 0,
      "outputs": [
        {
          "output_type": "stream",
          "text": [
            "[1 4 5]\n",
            "[1 4 5]\n"
          ],
          "name": "stdout"
        }
      ]
    },
    {
      "cell_type": "markdown",
      "metadata": {
        "id": "Dh57o5DAnSBw",
        "colab_type": "text"
      },
      "source": [
        "***5.5 Pandas***\n",
        "\n",
        "*   pandas is a Python package providing fast, flexible, and expressive data structures designed to make working with “relational” or “labelled” data\n",
        "*   Pandas DataFrames make manipulating your data easy, from selecting or replacing columns and indices to \n",
        " reshaping your data\n",
        " \n",
        "\n",
        "*   It helps with dealing with input data in CSV formats and with transforming your data into a form where it\n",
        "can be inputted into ML models\n",
        "*   We covers Pandas DataFrames, from basic manipulations to advanced operations\n",
        "\n"
      ]
    },
    {
      "cell_type": "code",
      "metadata": {
        "id": "OZWPbuulnnk6",
        "colab_type": "code",
        "outputId": "1c7705c0-000c-4ecf-ba63-01cad94aca61",
        "colab": {
          "base_uri": "https://localhost:8080/",
          "height": 203
        }
      },
      "source": [
        "#Import module\n",
        "import pandas as pd\n",
        "\n",
        "#Loading the dataset\n",
        "# dataset is in a CSV file, and the function we're going to use to read in the file is called pd.read_csv(). \n",
        "# This function returns a dataframe variable\n",
        "\n",
        "df = pd.read_csv('https://raw.githubusercontent.com/shashwat3057/Intro-to-python-for-Data-Science/master/diabetes%20-%20diabetes_null.csv')\n",
        "df.head()"
      ],
      "execution_count": 0,
      "outputs": [
        {
          "output_type": "execute_result",
          "data": {
            "text/html": [
              "<div>\n",
              "<style scoped>\n",
              "    .dataframe tbody tr th:only-of-type {\n",
              "        vertical-align: middle;\n",
              "    }\n",
              "\n",
              "    .dataframe tbody tr th {\n",
              "        vertical-align: top;\n",
              "    }\n",
              "\n",
              "    .dataframe thead th {\n",
              "        text-align: right;\n",
              "    }\n",
              "</style>\n",
              "<table border=\"1\" class=\"dataframe\">\n",
              "  <thead>\n",
              "    <tr style=\"text-align: right;\">\n",
              "      <th></th>\n",
              "      <th>Pregnancies</th>\n",
              "      <th>Glucose</th>\n",
              "      <th>BloodPressure</th>\n",
              "      <th>SkinThickness</th>\n",
              "      <th>Insulin</th>\n",
              "      <th>BMI</th>\n",
              "      <th>DiabetesPedigreeFunction</th>\n",
              "      <th>Age</th>\n",
              "      <th>Outcome</th>\n",
              "    </tr>\n",
              "  </thead>\n",
              "  <tbody>\n",
              "    <tr>\n",
              "      <th>0</th>\n",
              "      <td>6</td>\n",
              "      <td>148.0</td>\n",
              "      <td>72.0</td>\n",
              "      <td>35.0</td>\n",
              "      <td>NaN</td>\n",
              "      <td>33.6</td>\n",
              "      <td>0.627</td>\n",
              "      <td>5</td>\n",
              "      <td>1</td>\n",
              "    </tr>\n",
              "    <tr>\n",
              "      <th>1</th>\n",
              "      <td>1</td>\n",
              "      <td>85.0</td>\n",
              "      <td>66.0</td>\n",
              "      <td>29.0</td>\n",
              "      <td>NaN</td>\n",
              "      <td>26.6</td>\n",
              "      <td>0.351</td>\n",
              "      <td>31</td>\n",
              "      <td>0</td>\n",
              "    </tr>\n",
              "    <tr>\n",
              "      <th>2</th>\n",
              "      <td>8</td>\n",
              "      <td>183.0</td>\n",
              "      <td>64.0</td>\n",
              "      <td>NaN</td>\n",
              "      <td>NaN</td>\n",
              "      <td>23.3</td>\n",
              "      <td>0.672</td>\n",
              "      <td>32</td>\n",
              "      <td>1</td>\n",
              "    </tr>\n",
              "    <tr>\n",
              "      <th>3</th>\n",
              "      <td>1</td>\n",
              "      <td>89.0</td>\n",
              "      <td>66.0</td>\n",
              "      <td>23.0</td>\n",
              "      <td>94.0</td>\n",
              "      <td>28.1</td>\n",
              "      <td>0.167</td>\n",
              "      <td>21</td>\n",
              "      <td>0</td>\n",
              "    </tr>\n",
              "    <tr>\n",
              "      <th>4</th>\n",
              "      <td>0</td>\n",
              "      <td>137.0</td>\n",
              "      <td>4.0</td>\n",
              "      <td>35.0</td>\n",
              "      <td>168.0</td>\n",
              "      <td>43.1</td>\n",
              "      <td>2.288</td>\n",
              "      <td>33</td>\n",
              "      <td>1</td>\n",
              "    </tr>\n",
              "  </tbody>\n",
              "</table>\n",
              "</div>"
            ],
            "text/plain": [
              "   Pregnancies  Glucose  BloodPressure  ...  DiabetesPedigreeFunction  Age  Outcome\n",
              "0            6    148.0           72.0  ...                     0.627    5        1\n",
              "1            1     85.0           66.0  ...                     0.351   31        0\n",
              "2            8    183.0           64.0  ...                     0.672   32        1\n",
              "3            1     89.0           66.0  ...                     0.167   21        0\n",
              "4            0    137.0            4.0  ...                     2.288   33        1\n",
              "\n",
              "[5 rows x 9 columns]"
            ]
          },
          "metadata": {
            "tags": []
          },
          "execution_count": 135
        }
      ]
    },
    {
      "cell_type": "code",
      "metadata": {
        "id": "S832OafuoiCf",
        "colab_type": "code",
        "outputId": "9cd69199-0dbd-4ff6-c2c6-e9dd6c6e2250",
        "colab": {
          "base_uri": "https://localhost:8080/",
          "height": 203
        }
      },
      "source": [
        "df.tail()"
      ],
      "execution_count": 0,
      "outputs": [
        {
          "output_type": "execute_result",
          "data": {
            "text/html": [
              "<div>\n",
              "<style scoped>\n",
              "    .dataframe tbody tr th:only-of-type {\n",
              "        vertical-align: middle;\n",
              "    }\n",
              "\n",
              "    .dataframe tbody tr th {\n",
              "        vertical-align: top;\n",
              "    }\n",
              "\n",
              "    .dataframe thead th {\n",
              "        text-align: right;\n",
              "    }\n",
              "</style>\n",
              "<table border=\"1\" class=\"dataframe\">\n",
              "  <thead>\n",
              "    <tr style=\"text-align: right;\">\n",
              "      <th></th>\n",
              "      <th>Pregnancies</th>\n",
              "      <th>Glucose</th>\n",
              "      <th>BloodPressure</th>\n",
              "      <th>SkinThickness</th>\n",
              "      <th>Insulin</th>\n",
              "      <th>BMI</th>\n",
              "      <th>DiabetesPedigreeFunction</th>\n",
              "      <th>Age</th>\n",
              "      <th>Outcome</th>\n",
              "    </tr>\n",
              "  </thead>\n",
              "  <tbody>\n",
              "    <tr>\n",
              "      <th>763</th>\n",
              "      <td>10</td>\n",
              "      <td>11.0</td>\n",
              "      <td>76.0</td>\n",
              "      <td>48.0</td>\n",
              "      <td>18.0</td>\n",
              "      <td>32.9</td>\n",
              "      <td>0.171</td>\n",
              "      <td>63</td>\n",
              "      <td>0</td>\n",
              "    </tr>\n",
              "    <tr>\n",
              "      <th>764</th>\n",
              "      <td>2</td>\n",
              "      <td>122.0</td>\n",
              "      <td>7.0</td>\n",
              "      <td>27.0</td>\n",
              "      <td>NaN</td>\n",
              "      <td>36.8</td>\n",
              "      <td>0.340</td>\n",
              "      <td>27</td>\n",
              "      <td>0</td>\n",
              "    </tr>\n",
              "    <tr>\n",
              "      <th>765</th>\n",
              "      <td>5</td>\n",
              "      <td>121.0</td>\n",
              "      <td>72.0</td>\n",
              "      <td>23.0</td>\n",
              "      <td>112.0</td>\n",
              "      <td>26.2</td>\n",
              "      <td>0.245</td>\n",
              "      <td>3</td>\n",
              "      <td>0</td>\n",
              "    </tr>\n",
              "    <tr>\n",
              "      <th>766</th>\n",
              "      <td>1</td>\n",
              "      <td>126.0</td>\n",
              "      <td>6.0</td>\n",
              "      <td>NaN</td>\n",
              "      <td>NaN</td>\n",
              "      <td>3.1</td>\n",
              "      <td>0.349</td>\n",
              "      <td>47</td>\n",
              "      <td>1</td>\n",
              "    </tr>\n",
              "    <tr>\n",
              "      <th>767</th>\n",
              "      <td>1</td>\n",
              "      <td>93.0</td>\n",
              "      <td>7.0</td>\n",
              "      <td>31.0</td>\n",
              "      <td>NaN</td>\n",
              "      <td>3.4</td>\n",
              "      <td>0.315</td>\n",
              "      <td>23</td>\n",
              "      <td>0</td>\n",
              "    </tr>\n",
              "  </tbody>\n",
              "</table>\n",
              "</div>"
            ],
            "text/plain": [
              "     Pregnancies  Glucose  ...  Age  Outcome\n",
              "763           10     11.0  ...   63        0\n",
              "764            2    122.0  ...   27        0\n",
              "765            5    121.0  ...    3        0\n",
              "766            1    126.0  ...   47        1\n",
              "767            1     93.0  ...   23        0\n",
              "\n",
              "[5 rows x 9 columns]"
            ]
          },
          "metadata": {
            "tags": []
          },
          "execution_count": 136
        }
      ]
    },
    {
      "cell_type": "code",
      "metadata": {
        "id": "04thsOw7qgAS",
        "colab_type": "code",
        "outputId": "d8634a83-cacf-4116-8986-f2e714c27617",
        "colab": {
          "base_uri": "https://localhost:8080/",
          "height": 34
        }
      },
      "source": [
        "df.shape"
      ],
      "execution_count": 0,
      "outputs": [
        {
          "output_type": "execute_result",
          "data": {
            "text/plain": [
              "(768, 9)"
            ]
          },
          "metadata": {
            "tags": []
          },
          "execution_count": 137
        }
      ]
    },
    {
      "cell_type": "code",
      "metadata": {
        "id": "ih_arToKqjAa",
        "colab_type": "code",
        "outputId": "8f981b30-3d9a-40cd-e4bb-4a228dbdab82",
        "colab": {
          "base_uri": "https://localhost:8080/",
          "height": 175
        }
      },
      "source": [
        "# We can also extract all the column names as a list, by using the columns attribute and can extract the rows\n",
        "# with the index attribute\n",
        "df.columns.tolist()"
      ],
      "execution_count": 0,
      "outputs": [
        {
          "output_type": "execute_result",
          "data": {
            "text/plain": [
              "['Pregnancies',\n",
              " 'Glucose',\n",
              " 'BloodPressure',\n",
              " 'SkinThickness',\n",
              " 'Insulin',\n",
              " 'BMI',\n",
              " 'DiabetesPedigreeFunction',\n",
              " 'Age',\n",
              " 'Outcome']"
            ]
          },
          "metadata": {
            "tags": []
          },
          "execution_count": 138
        }
      ]
    },
    {
      "cell_type": "code",
      "metadata": {
        "id": "lPTvXizGqruq",
        "colab_type": "code",
        "outputId": "8dfdb653-770b-4930-8768-0a7a031499c2",
        "colab": {
          "base_uri": "https://localhost:8080/",
          "height": 316
        }
      },
      "source": [
        "# In order to get a better idea of the type of data that we are dealing with, \n",
        "# we can call the describe() function to see statistics like mean, min, etc about each column of the dataset.\n",
        "df.describe()"
      ],
      "execution_count": 0,
      "outputs": [
        {
          "output_type": "execute_result",
          "data": {
            "text/html": [
              "<div>\n",
              "<style scoped>\n",
              "    .dataframe tbody tr th:only-of-type {\n",
              "        vertical-align: middle;\n",
              "    }\n",
              "\n",
              "    .dataframe tbody tr th {\n",
              "        vertical-align: top;\n",
              "    }\n",
              "\n",
              "    .dataframe thead th {\n",
              "        text-align: right;\n",
              "    }\n",
              "</style>\n",
              "<table border=\"1\" class=\"dataframe\">\n",
              "  <thead>\n",
              "    <tr style=\"text-align: right;\">\n",
              "      <th></th>\n",
              "      <th>Pregnancies</th>\n",
              "      <th>Glucose</th>\n",
              "      <th>BloodPressure</th>\n",
              "      <th>SkinThickness</th>\n",
              "      <th>Insulin</th>\n",
              "      <th>BMI</th>\n",
              "      <th>DiabetesPedigreeFunction</th>\n",
              "      <th>Age</th>\n",
              "      <th>Outcome</th>\n",
              "    </tr>\n",
              "  </thead>\n",
              "  <tbody>\n",
              "    <tr>\n",
              "      <th>count</th>\n",
              "      <td>768.000000</td>\n",
              "      <td>763.000000</td>\n",
              "      <td>733.000000</td>\n",
              "      <td>541.000000</td>\n",
              "      <td>394.000000</td>\n",
              "      <td>757.000000</td>\n",
              "      <td>768.000000</td>\n",
              "      <td>768.000000</td>\n",
              "      <td>768.000000</td>\n",
              "    </tr>\n",
              "    <tr>\n",
              "      <th>mean</th>\n",
              "      <td>3.845052</td>\n",
              "      <td>99.310616</td>\n",
              "      <td>55.706685</td>\n",
              "      <td>25.876155</td>\n",
              "      <td>105.659898</td>\n",
              "      <td>29.865654</td>\n",
              "      <td>0.490439</td>\n",
              "      <td>30.990885</td>\n",
              "      <td>0.348958</td>\n",
              "    </tr>\n",
              "    <tr>\n",
              "      <th>std</th>\n",
              "      <td>3.369578</td>\n",
              "      <td>55.115381</td>\n",
              "      <td>29.878852</td>\n",
              "      <td>12.967816</td>\n",
              "      <td>116.862508</td>\n",
              "      <td>10.686049</td>\n",
              "      <td>0.346050</td>\n",
              "      <td>13.281475</td>\n",
              "      <td>0.476951</td>\n",
              "    </tr>\n",
              "    <tr>\n",
              "      <th>min</th>\n",
              "      <td>0.000000</td>\n",
              "      <td>1.000000</td>\n",
              "      <td>1.000000</td>\n",
              "      <td>1.000000</td>\n",
              "      <td>1.000000</td>\n",
              "      <td>2.000000</td>\n",
              "      <td>0.100000</td>\n",
              "      <td>3.000000</td>\n",
              "      <td>0.000000</td>\n",
              "    </tr>\n",
              "    <tr>\n",
              "      <th>25%</th>\n",
              "      <td>1.000000</td>\n",
              "      <td>72.500000</td>\n",
              "      <td>16.000000</td>\n",
              "      <td>18.000000</td>\n",
              "      <td>21.000000</td>\n",
              "      <td>25.400000</td>\n",
              "      <td>0.253750</td>\n",
              "      <td>23.000000</td>\n",
              "      <td>0.000000</td>\n",
              "    </tr>\n",
              "    <tr>\n",
              "      <th>50%</th>\n",
              "      <td>3.000000</td>\n",
              "      <td>113.000000</td>\n",
              "      <td>66.000000</td>\n",
              "      <td>27.000000</td>\n",
              "      <td>71.000000</td>\n",
              "      <td>32.000000</td>\n",
              "      <td>0.382500</td>\n",
              "      <td>28.000000</td>\n",
              "      <td>0.000000</td>\n",
              "    </tr>\n",
              "    <tr>\n",
              "      <th>75%</th>\n",
              "      <td>6.000000</td>\n",
              "      <td>138.000000</td>\n",
              "      <td>76.000000</td>\n",
              "      <td>35.000000</td>\n",
              "      <td>151.000000</td>\n",
              "      <td>36.100000</td>\n",
              "      <td>0.647500</td>\n",
              "      <td>38.250000</td>\n",
              "      <td>1.000000</td>\n",
              "    </tr>\n",
              "    <tr>\n",
              "      <th>max</th>\n",
              "      <td>17.000000</td>\n",
              "      <td>199.000000</td>\n",
              "      <td>122.000000</td>\n",
              "      <td>99.000000</td>\n",
              "      <td>846.000000</td>\n",
              "      <td>67.100000</td>\n",
              "      <td>2.420000</td>\n",
              "      <td>81.000000</td>\n",
              "      <td>1.000000</td>\n",
              "    </tr>\n",
              "  </tbody>\n",
              "</table>\n",
              "</div>"
            ],
            "text/plain": [
              "       Pregnancies     Glucose  ...         Age     Outcome\n",
              "count   768.000000  763.000000  ...  768.000000  768.000000\n",
              "mean      3.845052   99.310616  ...   30.990885    0.348958\n",
              "std       3.369578   55.115381  ...   13.281475    0.476951\n",
              "min       0.000000    1.000000  ...    3.000000    0.000000\n",
              "25%       1.000000   72.500000  ...   23.000000    0.000000\n",
              "50%       3.000000  113.000000  ...   28.000000    0.000000\n",
              "75%       6.000000  138.000000  ...   38.250000    1.000000\n",
              "max      17.000000  199.000000  ...   81.000000    1.000000\n",
              "\n",
              "[8 rows x 9 columns]"
            ]
          },
          "metadata": {
            "tags": []
          },
          "execution_count": 139
        }
      ]
    },
    {
      "cell_type": "code",
      "metadata": {
        "id": "lb3hfy61qspY",
        "colab_type": "code",
        "outputId": "0605e9b4-8bdc-4a13-d9de-5a682b61d49f",
        "colab": {
          "base_uri": "https://localhost:8080/",
          "height": 193
        }
      },
      "source": [
        "# The function max() will show you the maximum values of all columns\n",
        "df.max()"
      ],
      "execution_count": 0,
      "outputs": [
        {
          "output_type": "execute_result",
          "data": {
            "text/plain": [
              "Pregnancies                  17.00\n",
              "Glucose                     199.00\n",
              "BloodPressure               122.00\n",
              "SkinThickness                99.00\n",
              "Insulin                     846.00\n",
              "BMI                          67.10\n",
              "DiabetesPedigreeFunction      2.42\n",
              "Age                          81.00\n",
              "Outcome                       1.00\n",
              "dtype: float64"
            ]
          },
          "metadata": {
            "tags": []
          },
          "execution_count": 140
        }
      ]
    },
    {
      "cell_type": "code",
      "metadata": {
        "id": "NEVTQyo1qwT5",
        "colab_type": "code",
        "outputId": "825914fc-7ec4-4910-9aa3-2c2968b44c31",
        "colab": {
          "base_uri": "https://localhost:8080/",
          "height": 34
        }
      },
      "source": [
        "# Then, if you'd like to specifically get the max value for a particular column, \n",
        "# you pass in the name of the column using the bracket indexing operator\n",
        "df['BMI'].max()"
      ],
      "execution_count": 0,
      "outputs": [
        {
          "output_type": "execute_result",
          "data": {
            "text/plain": [
              "67.1"
            ]
          },
          "metadata": {
            "tags": []
          },
          "execution_count": 141
        }
      ]
    },
    {
      "cell_type": "code",
      "metadata": {
        "id": "GkVL8u70q04V",
        "colab_type": "code",
        "outputId": "b752675b-6629-4a3f-bbbe-4878e10344d8",
        "colab": {
          "base_uri": "https://localhost:8080/",
          "height": 34
        }
      },
      "source": [
        "#If we need to calculate the mean of a particular column\n",
        "df['BMI'].mean()"
      ],
      "execution_count": 0,
      "outputs": [
        {
          "output_type": "execute_result",
          "data": {
            "text/plain": [
              "29.86565389696167"
            ]
          },
          "metadata": {
            "tags": []
          },
          "execution_count": 142
        }
      ]
    },
    {
      "cell_type": "code",
      "metadata": {
        "id": "yt727jseq6ER",
        "colab_type": "code",
        "outputId": "099b7c4f-4eca-433a-8bac-42d1859e0948",
        "colab": {
          "base_uri": "https://localhost:8080/",
          "height": 1000
        }
      },
      "source": [
        "# value_counts() function shows how many times each item appears in the column\n",
        "df['BMI'].value_counts()"
      ],
      "execution_count": 0,
      "outputs": [
        {
          "output_type": "execute_result",
          "data": {
            "text/plain": [
              "32.0    13\n",
              "31.6    12\n",
              "31.2    12\n",
              "33.3    10\n",
              "32.4    10\n",
              "32.9     9\n",
              "32.8     9\n",
              "3.1      9\n",
              "3.8      9\n",
              "33.6     8\n",
              "34.2     8\n",
              "29.7     8\n",
              "25.9     7\n",
              "27.8     7\n",
              "35.5     7\n",
              "3.4      7\n",
              "27.6     7\n",
              "28.7     7\n",
              "3.0      7\n",
              "33.2     7\n",
              "3.5      7\n",
              "39.4     7\n",
              "25.2     6\n",
              "38.5     6\n",
              "24.2     6\n",
              "28.9     6\n",
              "34.3     6\n",
              "28.4     6\n",
              "34.9     6\n",
              "32.5     6\n",
              "        ..\n",
              "42.8     1\n",
              "46.7     1\n",
              "67.1     1\n",
              "39.6     1\n",
              "3.7      1\n",
              "38.3     1\n",
              "44.6     1\n",
              "36.7     1\n",
              "22.3     1\n",
              "45.4     1\n",
              "45.7     1\n",
              "24.5     1\n",
              "46.5     1\n",
              "33.5     1\n",
              "32.2     1\n",
              "21.7     1\n",
              "59.4     1\n",
              "21.2     1\n",
              "32.6     1\n",
              "4.2      1\n",
              "43.1     1\n",
              "49.6     1\n",
              "36.2     1\n",
              "26.3     1\n",
              "4.8      1\n",
              "19.3     1\n",
              "46.3     1\n",
              "49.3     1\n",
              "3.2      1\n",
              "57.3     1\n",
              "Name: BMI, Length: 247, dtype: int64"
            ]
          },
          "metadata": {
            "tags": []
          },
          "execution_count": 143
        }
      ]
    },
    {
      "cell_type": "code",
      "metadata": {
        "id": "mBX_LmIqrAFJ",
        "colab_type": "code",
        "outputId": "5727bcb9-08fb-4919-9d74-faead95c5c83",
        "colab": {
          "base_uri": "https://localhost:8080/",
          "height": 193
        }
      },
      "source": [
        "# ACCESSING \n",
        "\n",
        "# Select an Index or Column From a Pandas DataFrame\n",
        "# Selecting data by row numbers (.iloc)\n",
        "# Selecting data by label or by a conditional statment (.loc)\n",
        "\n",
        "print(df.iloc[1])"
      ],
      "execution_count": 0,
      "outputs": [
        {
          "output_type": "stream",
          "text": [
            "Pregnancies                  1.000\n",
            "Glucose                     85.000\n",
            "BloodPressure               66.000\n",
            "SkinThickness               29.000\n",
            "Insulin                        NaN\n",
            "BMI                         26.600\n",
            "DiabetesPedigreeFunction     0.351\n",
            "Age                         31.000\n",
            "Outcome                      0.000\n",
            "Name: 1, dtype: float64\n"
          ],
          "name": "stdout"
        }
      ]
    },
    {
      "cell_type": "code",
      "metadata": {
        "id": "iqZMZog7rF_S",
        "colab_type": "code",
        "outputId": "fe3cfefa-df28-44df-cfd8-3864f8498557",
        "colab": {
          "base_uri": "https://localhost:8080/",
          "height": 34
        }
      },
      "source": [
        "print(df.loc[1]['Glucose'])"
      ],
      "execution_count": 0,
      "outputs": [
        {
          "output_type": "stream",
          "text": [
            "85.0\n"
          ],
          "name": "stdout"
        }
      ]
    },
    {
      "cell_type": "code",
      "metadata": {
        "id": "i4Tlt3aStibV",
        "colab_type": "code",
        "outputId": "c53e2c79-8128-4e75-e278-0ce6b850e631",
        "colab": {
          "base_uri": "https://localhost:8080/",
          "height": 141
        }
      },
      "source": [
        "df.iloc[:3]"
      ],
      "execution_count": 0,
      "outputs": [
        {
          "output_type": "execute_result",
          "data": {
            "text/html": [
              "<div>\n",
              "<style scoped>\n",
              "    .dataframe tbody tr th:only-of-type {\n",
              "        vertical-align: middle;\n",
              "    }\n",
              "\n",
              "    .dataframe tbody tr th {\n",
              "        vertical-align: top;\n",
              "    }\n",
              "\n",
              "    .dataframe thead th {\n",
              "        text-align: right;\n",
              "    }\n",
              "</style>\n",
              "<table border=\"1\" class=\"dataframe\">\n",
              "  <thead>\n",
              "    <tr style=\"text-align: right;\">\n",
              "      <th></th>\n",
              "      <th>Pregnancies</th>\n",
              "      <th>Glucose</th>\n",
              "      <th>BloodPressure</th>\n",
              "      <th>SkinThickness</th>\n",
              "      <th>Insulin</th>\n",
              "      <th>BMI</th>\n",
              "      <th>DiabetesPedigreeFunction</th>\n",
              "      <th>Age</th>\n",
              "      <th>Outcome</th>\n",
              "    </tr>\n",
              "  </thead>\n",
              "  <tbody>\n",
              "    <tr>\n",
              "      <th>0</th>\n",
              "      <td>6</td>\n",
              "      <td>148.0</td>\n",
              "      <td>72.0</td>\n",
              "      <td>35.0</td>\n",
              "      <td>NaN</td>\n",
              "      <td>33.6</td>\n",
              "      <td>0.627</td>\n",
              "      <td>5</td>\n",
              "      <td>1</td>\n",
              "    </tr>\n",
              "    <tr>\n",
              "      <th>1</th>\n",
              "      <td>1</td>\n",
              "      <td>85.0</td>\n",
              "      <td>66.0</td>\n",
              "      <td>29.0</td>\n",
              "      <td>NaN</td>\n",
              "      <td>26.6</td>\n",
              "      <td>0.351</td>\n",
              "      <td>31</td>\n",
              "      <td>0</td>\n",
              "    </tr>\n",
              "    <tr>\n",
              "      <th>2</th>\n",
              "      <td>8</td>\n",
              "      <td>183.0</td>\n",
              "      <td>64.0</td>\n",
              "      <td>NaN</td>\n",
              "      <td>NaN</td>\n",
              "      <td>23.3</td>\n",
              "      <td>0.672</td>\n",
              "      <td>32</td>\n",
              "      <td>1</td>\n",
              "    </tr>\n",
              "  </tbody>\n",
              "</table>\n",
              "</div>"
            ],
            "text/plain": [
              "   Pregnancies  Glucose  BloodPressure  ...  DiabetesPedigreeFunction  Age  Outcome\n",
              "0            6    148.0           72.0  ...                     0.627    5        1\n",
              "1            1     85.0           66.0  ...                     0.351   31        0\n",
              "2            8    183.0           64.0  ...                     0.672   32        1\n",
              "\n",
              "[3 rows x 9 columns]"
            ]
          },
          "metadata": {
            "tags": []
          },
          "execution_count": 146
        }
      ]
    },
    {
      "cell_type": "code",
      "metadata": {
        "id": "yQJh7ssPtqcM",
        "colab_type": "code",
        "outputId": "172b6e09-d5d3-4925-dc12-3d0d156dc8c3",
        "colab": {
          "base_uri": "https://localhost:8080/",
          "height": 203
        }
      },
      "source": [
        "#if we want the dataset with Glucose as sorted\n",
        "df.sort_values('Glucose').head()"
      ],
      "execution_count": 0,
      "outputs": [
        {
          "output_type": "execute_result",
          "data": {
            "text/html": [
              "<div>\n",
              "<style scoped>\n",
              "    .dataframe tbody tr th:only-of-type {\n",
              "        vertical-align: middle;\n",
              "    }\n",
              "\n",
              "    .dataframe tbody tr th {\n",
              "        vertical-align: top;\n",
              "    }\n",
              "\n",
              "    .dataframe thead th {\n",
              "        text-align: right;\n",
              "    }\n",
              "</style>\n",
              "<table border=\"1\" class=\"dataframe\">\n",
              "  <thead>\n",
              "    <tr style=\"text-align: right;\">\n",
              "      <th></th>\n",
              "      <th>Pregnancies</th>\n",
              "      <th>Glucose</th>\n",
              "      <th>BloodPressure</th>\n",
              "      <th>SkinThickness</th>\n",
              "      <th>Insulin</th>\n",
              "      <th>BMI</th>\n",
              "      <th>DiabetesPedigreeFunction</th>\n",
              "      <th>Age</th>\n",
              "      <th>Outcome</th>\n",
              "    </tr>\n",
              "  </thead>\n",
              "  <tbody>\n",
              "    <tr>\n",
              "      <th>15</th>\n",
              "      <td>7</td>\n",
              "      <td>1.0</td>\n",
              "      <td>NaN</td>\n",
              "      <td>NaN</td>\n",
              "      <td>NaN</td>\n",
              "      <td>3.0</td>\n",
              "      <td>0.484</td>\n",
              "      <td>32</td>\n",
              "      <td>1</td>\n",
              "    </tr>\n",
              "    <tr>\n",
              "      <th>446</th>\n",
              "      <td>1</td>\n",
              "      <td>1.0</td>\n",
              "      <td>72.0</td>\n",
              "      <td>12.0</td>\n",
              "      <td>7.0</td>\n",
              "      <td>25.3</td>\n",
              "      <td>0.658</td>\n",
              "      <td>28</td>\n",
              "      <td>0</td>\n",
              "    </tr>\n",
              "    <tr>\n",
              "      <th>57</th>\n",
              "      <td>0</td>\n",
              "      <td>1.0</td>\n",
              "      <td>88.0</td>\n",
              "      <td>6.0</td>\n",
              "      <td>11.0</td>\n",
              "      <td>46.8</td>\n",
              "      <td>0.962</td>\n",
              "      <td>31</td>\n",
              "      <td>0</td>\n",
              "    </tr>\n",
              "    <tr>\n",
              "      <th>454</th>\n",
              "      <td>2</td>\n",
              "      <td>1.0</td>\n",
              "      <td>54.0</td>\n",
              "      <td>28.0</td>\n",
              "      <td>15.0</td>\n",
              "      <td>37.8</td>\n",
              "      <td>0.498</td>\n",
              "      <td>24</td>\n",
              "      <td>0</td>\n",
              "    </tr>\n",
              "    <tr>\n",
              "      <th>639</th>\n",
              "      <td>1</td>\n",
              "      <td>1.0</td>\n",
              "      <td>74.0</td>\n",
              "      <td>12.0</td>\n",
              "      <td>46.0</td>\n",
              "      <td>19.5</td>\n",
              "      <td>0.149</td>\n",
              "      <td>28</td>\n",
              "      <td>0</td>\n",
              "    </tr>\n",
              "  </tbody>\n",
              "</table>\n",
              "</div>"
            ],
            "text/plain": [
              "     Pregnancies  Glucose  ...  Age  Outcome\n",
              "15             7      1.0  ...   32        1\n",
              "446            1      1.0  ...   28        0\n",
              "57             0      1.0  ...   31        0\n",
              "454            2      1.0  ...   24        0\n",
              "639            1      1.0  ...   28        0\n",
              "\n",
              "[5 rows x 9 columns]"
            ]
          },
          "metadata": {
            "tags": []
          },
          "execution_count": 147
        }
      ]
    },
    {
      "cell_type": "code",
      "metadata": {
        "id": "zbNBBlRMtwhL",
        "colab_type": "code",
        "colab": {}
      },
      "source": [
        "#filtering data\n",
        "df[df['Age'] > 30]"
      ],
      "execution_count": 0,
      "outputs": []
    },
    {
      "cell_type": "markdown",
      "metadata": {
        "id": "Ew8ZgEP9t7oa",
        "colab_type": "text"
      },
      "source": [
        "**5.6 Matplotlib**\n",
        "\n",
        "\n",
        "*   Matplotlib is a Python library used for plotting Graphs and Histograms.\n",
        "*   In data science visualization is the important step. By using visualization we can easily understand than how data is split.\n",
        "\n"
      ]
    },
    {
      "cell_type": "code",
      "metadata": {
        "id": "KI1iNY4At1Hl",
        "colab_type": "code",
        "colab": {}
      },
      "source": [
        "#import the matplotlib package\n",
        "import matplotlib.pyplot as plt"
      ],
      "execution_count": 0,
      "outputs": []
    },
    {
      "cell_type": "code",
      "metadata": {
        "id": "o3cbcHYEuxyp",
        "colab_type": "code",
        "outputId": "1857c109-d5ed-4481-96a5-675a0ddd8db7",
        "colab": {
          "base_uri": "https://localhost:8080/",
          "height": 286
        }
      },
      "source": [
        "# plt.plot(x,y)\n",
        "plt.plot([1,2,3,4],[16,15,55,36])"
      ],
      "execution_count": 0,
      "outputs": [
        {
          "output_type": "execute_result",
          "data": {
            "text/plain": [
              "[<matplotlib.lines.Line2D at 0x7f2170a57da0>]"
            ]
          },
          "metadata": {
            "tags": []
          },
          "execution_count": 62
        },
        {
          "output_type": "display_data",
          "data": {
            "image/png": "[encoded data removed]",
            "text/plain": [
              "<Figure size 432x288 with 1 Axes>"
            ]
          },
          "metadata": {
            "tags": []
          }
        }
      ]
    },
    {
      "cell_type": "code",
      "metadata": {
        "id": "hMkzPLAcu0Uo",
        "colab_type": "code",
        "outputId": "1c682ef8-6a4e-4f96-94b2-a77fd8225cf7",
        "colab": {
          "base_uri": "https://localhost:8080/",
          "height": 295
        }
      },
      "source": [
        "plt.plot([1,2,3,4],[16,15,55,36])\n",
        "plt.title(\"Sample plot\")\n",
        "plt.xlabel(\"x axis\")\n",
        "plt.ylabel(\"y axis\")\n",
        "plt.show()"
      ],
      "execution_count": 0,
      "outputs": [
        {
          "output_type": "display_data",
          "data": {
            "image/png": "[encoded data removed]",
            "text/plain": [
              "<Figure size 432x288 with 1 Axes>"
            ]
          },
          "metadata": {
            "tags": []
          }
        }
      ]
    },
    {
      "cell_type": "code",
      "metadata": {
        "id": "sfdoW3amu3PY",
        "colab_type": "code",
        "outputId": "95e5372e-9711-4687-95b0-125db8ca82af",
        "colab": {
          "base_uri": "https://localhost:8080/",
          "height": 269
        }
      },
      "source": [
        "#Histogram\n",
        "values = [0,0.6,1.4,1.6,2.2,2.5,2.6,3.2,3.5,3.9,4.2,6]\n",
        "plt.hist(values, bins = 3)\n",
        "plt.show()"
      ],
      "execution_count": 0,
      "outputs": [
        {
          "output_type": "display_data",
          "data": {
            "image/png": "[encoded data removed]",
            "text/plain": [
              "<Figure size 432x288 with 1 Axes>"
            ]
          },
          "metadata": {
            "tags": []
          }
        }
      ]
    },
    {
      "cell_type": "code",
      "metadata": {
        "id": "Iics0hALu6j3",
        "colab_type": "code",
        "outputId": "d72856ce-2342-4643-d949-b4d3cf0d6d10",
        "colab": {
          "base_uri": "https://localhost:8080/",
          "height": 295
        }
      },
      "source": [
        "#Ticks are the values used to show specific points on the coordinate axis\n",
        "year = [1998,1999,2003,2012,2019]\n",
        "pop = [2.538, 2.57, 2.62, 3.67,4.0]\n",
        "plt.plot(year, pop)\n",
        "plt.xlabel('Year')\n",
        "plt.ylabel('Population')\n",
        "plt.title('World Population Projections')\n",
        "plt.yticks([0, 2, 4, 6, 8, 10])\n",
        "plt.show()"
      ],
      "execution_count": 0,
      "outputs": [
        {
          "output_type": "display_data",
          "data": {
            "image/png": "[encoded data removed]",
            "text/plain": [
              "<Figure size 432x288 with 1 Axes>"
            ]
          },
          "metadata": {
            "tags": []
          }
        }
      ]
    },
    {
      "cell_type": "code",
      "metadata": {
        "id": "CR_VPGzJu95v",
        "colab_type": "code",
        "colab": {}
      },
      "source": [
        ""
      ],
      "execution_count": 0,
      "outputs": []
    }
  ]
}